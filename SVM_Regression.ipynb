{
 "cells": [
  {
   "cell_type": "code",
   "execution_count": 1,
   "id": "9e80fd61",
   "metadata": {},
   "outputs": [],
   "source": [
    "import numpy as np\n",
    "import pandas as pd\n",
    "from sklearn.datasets import fetch_california_housing\n",
    "\n",
    "housing = fetch_california_housing()\n",
    "X = housing[\"data\"]\n",
    "y = housing[\"target\"]"
   ]
  },
  {
   "cell_type": "markdown",
   "id": "472505a4",
   "metadata": {},
   "source": [
    "# Split it into a training set and a test set:"
   ]
  },
  {
   "cell_type": "code",
   "execution_count": 2,
   "id": "810107e9",
   "metadata": {},
   "outputs": [],
   "source": [
    "from sklearn.model_selection import train_test_split\n",
    "\n",
    "X_train, X_test, y_train, y_test = train_test_split(X, y, test_size=0.2, random_state=42)"
   ]
  },
  {
   "cell_type": "markdown",
   "id": "70ce5a49",
   "metadata": {},
   "source": [
    "# SCALING THE DATA "
   ]
  },
  {
   "cell_type": "code",
   "execution_count": 3,
   "id": "297408d5",
   "metadata": {},
   "outputs": [],
   "source": [
    "from sklearn.preprocessing import StandardScaler\n",
    "\n",
    "scaler = StandardScaler()\n",
    "X_train_scaled = scaler.fit_transform(X_train)\n",
    "X_test_scaled = scaler.transform(X_test)"
   ]
  },
  {
   "cell_type": "markdown",
   "id": "293a18db",
   "metadata": {},
   "source": [
    "# simple LinearSVR "
   ]
  },
  {
   "cell_type": "code",
   "execution_count": 4,
   "id": "bd84e47b",
   "metadata": {},
   "outputs": [
    {
     "name": "stderr",
     "output_type": "stream",
     "text": [
      "E:\\ANAXONDA\\lib\\site-packages\\sklearn\\svm\\_base.py:985: ConvergenceWarning: Liblinear failed to converge, increase the number of iterations.\n",
      "  warnings.warn(\"Liblinear failed to converge, increase \"\n"
     ]
    },
    {
     "data": {
      "text/plain": [
       "LinearSVR(random_state=42)"
      ]
     },
     "execution_count": 4,
     "metadata": {},
     "output_type": "execute_result"
    }
   ],
   "source": [
    "from sklearn.svm import LinearSVR\n",
    "\n",
    "lin_svr = LinearSVR(random_state=42)\n",
    "lin_svr.fit(X_train_scaled, y_train)"
   ]
  },
  {
   "cell_type": "markdown",
   "id": "069d1b61",
   "metadata": {},
   "source": [
    "# Model performance on the training set:"
   ]
  },
  {
   "cell_type": "code",
   "execution_count": 6,
   "id": "ccaf477b",
   "metadata": {},
   "outputs": [
    {
     "data": {
      "text/plain": [
       "0.9641780189948642"
      ]
     },
     "execution_count": 6,
     "metadata": {},
     "output_type": "execute_result"
    }
   ],
   "source": [
    "from sklearn.metrics import mean_squared_error\n",
    "\n",
    "y_pred = lin_svr.predict(X_train_scaled)\n",
    "mse = mean_squared_error(y_train, y_pred)\n",
    "mse"
   ]
  },
  {
   "cell_type": "markdown",
   "id": "24171392",
   "metadata": {},
   "source": [
    "# Root Mean Squarred Error ( RMSE:)"
   ]
  },
  {
   "cell_type": "code",
   "execution_count": 7,
   "id": "3d7b1da8",
   "metadata": {},
   "outputs": [
    {
     "data": {
      "text/plain": [
       "0.9819256687727764"
      ]
     },
     "execution_count": 7,
     "metadata": {},
     "output_type": "execute_result"
    }
   ],
   "source": [
    "np.sqrt(mse)"
   ]
  },
  {
   "cell_type": "markdown",
   "id": "c1b9f8ac",
   "metadata": {},
   "source": [
    "# CONCLUSION"
   ]
  },
  {
   "cell_type": "markdown",
   "id": "9b79dd5b",
   "metadata": {},
   "source": [
    "In this training set, the targets are tens of thousands of dollars. The RMSE gives a rough idea of the kind of error you should expect (with a higher weight for large errors): so with this model we can expect errors somewhere around $10,000. Not great."
   ]
  },
  {
   "cell_type": "code",
   "execution_count": null,
   "id": "7fa693ed",
   "metadata": {},
   "outputs": [],
   "source": []
  },
  {
   "cell_type": "markdown",
   "id": "88306a0f",
   "metadata": {},
   "source": [
    "# method 2: RBF Kernel"
   ]
  },
  {
   "cell_type": "code",
   "execution_count": 8,
   "id": "267e3e32",
   "metadata": {},
   "outputs": [],
   "source": [
    "from sklearn.svm import SVR\n",
    "from sklearn.model_selection import RandomizedSearchCV\n",
    "from scipy.stats import reciprocal, uniform"
   ]
  },
  {
   "cell_type": "code",
   "execution_count": 9,
   "id": "5577930e",
   "metadata": {},
   "outputs": [
    {
     "name": "stdout",
     "output_type": "stream",
     "text": [
      "Fitting 3 folds for each of 10 candidates, totalling 30 fits\n",
      "[CV] END .....C=4.745401188473625, gamma=0.07969454818643928; total time=  25.8s\n",
      "[CV] END .....C=4.745401188473625, gamma=0.07969454818643928; total time=  25.7s\n",
      "[CV] END .....C=4.745401188473625, gamma=0.07969454818643928; total time=  33.2s\n",
      "[CV] END .....C=8.31993941811405, gamma=0.015751320499779724; total time=  25.3s\n",
      "[CV] END .....C=8.31993941811405, gamma=0.015751320499779724; total time=  25.0s\n",
      "[CV] END .....C=8.31993941811405, gamma=0.015751320499779724; total time=  25.1s\n",
      "[CV] END ....C=2.560186404424365, gamma=0.002051110418843397; total time=  23.7s\n",
      "[CV] END ....C=2.560186404424365, gamma=0.002051110418843397; total time=  28.7s\n",
      "[CV] END ....C=2.560186404424365, gamma=0.002051110418843397; total time=  28.2s\n",
      "[CV] END ....C=1.5808361216819946, gamma=0.05399484409787431; total time=  23.5s\n",
      "[CV] END ....C=1.5808361216819946, gamma=0.05399484409787431; total time=  23.3s\n",
      "[CV] END ....C=1.5808361216819946, gamma=0.05399484409787431; total time=  23.9s\n",
      "[CV] END ....C=7.011150117432088, gamma=0.026070247583707663; total time=  24.5s\n",
      "[CV] END ....C=7.011150117432088, gamma=0.026070247583707663; total time=  25.1s\n",
      "[CV] END ....C=7.011150117432088, gamma=0.026070247583707663; total time=  25.1s\n",
      "[CV] END .....C=1.2058449429580245, gamma=0.0870602087830485; total time=  23.3s\n",
      "[CV] END .....C=1.2058449429580245, gamma=0.0870602087830485; total time=  23.4s\n",
      "[CV] END .....C=1.2058449429580245, gamma=0.0870602087830485; total time=  23.4s\n",
      "[CV] END ...C=9.324426408004218, gamma=0.0026587543983272693; total time=  24.4s\n",
      "[CV] END ...C=9.324426408004218, gamma=0.0026587543983272693; total time=  24.6s\n",
      "[CV] END ...C=9.324426408004218, gamma=0.0026587543983272693; total time=  24.6s\n",
      "[CV] END ...C=2.818249672071006, gamma=0.0023270677083837795; total time=  23.5s\n",
      "[CV] END ...C=2.818249672071006, gamma=0.0023270677083837795; total time=  24.0s\n",
      "[CV] END ...C=2.818249672071006, gamma=0.0023270677083837795; total time=  23.9s\n",
      "[CV] END ....C=4.042422429595377, gamma=0.011207606211860567; total time=  25.0s\n",
      "[CV] END ....C=4.042422429595377, gamma=0.011207606211860567; total time=  23.3s\n",
      "[CV] END ....C=4.042422429595377, gamma=0.011207606211860567; total time=  27.8s\n",
      "[CV] END ....C=5.319450186421157, gamma=0.003823475224675185; total time=  25.4s\n",
      "[CV] END ....C=5.319450186421157, gamma=0.003823475224675185; total time=  23.5s\n",
      "[CV] END ....C=5.319450186421157, gamma=0.003823475224675185; total time=  24.7s\n"
     ]
    },
    {
     "data": {
      "text/plain": [
       "RandomizedSearchCV(cv=3, estimator=SVR(),\n",
       "                   param_distributions={'C': <scipy.stats._distn_infrastructure.rv_frozen object at 0x0000020CB59554C0>,\n",
       "                                        'gamma': <scipy.stats._distn_infrastructure.rv_frozen object at 0x0000020CB5955790>},\n",
       "                   random_state=42, verbose=2)"
      ]
     },
     "execution_count": 9,
     "metadata": {},
     "output_type": "execute_result"
    }
   ],
   "source": [
    "param_distributions = {\"gamma\": reciprocal(0.001, 0.1), \"C\": uniform(1, 10)}\n",
    "rnd_search_cv = RandomizedSearchCV(SVR(), param_distributions, n_iter=10, verbose=2, cv=3, random_state=42)\n",
    "rnd_search_cv.fit(X_train_scaled, y_train)"
   ]
  },
  {
   "cell_type": "code",
   "execution_count": 10,
   "id": "0febeac5",
   "metadata": {},
   "outputs": [
    {
     "data": {
      "text/plain": [
       "SVR(C=4.745401188473625, gamma=0.07969454818643928)"
      ]
     },
     "execution_count": 10,
     "metadata": {},
     "output_type": "execute_result"
    }
   ],
   "source": [
    "rnd_search_cv.best_estimator_"
   ]
  },
  {
   "cell_type": "markdown",
   "id": "332eec9d",
   "metadata": {},
   "source": [
    "# Model evaluation"
   ]
  },
  {
   "cell_type": "code",
   "execution_count": 11,
   "id": "755a2ab0",
   "metadata": {},
   "outputs": [
    {
     "data": {
      "text/plain": [
       "0.5727524770785369"
      ]
     },
     "execution_count": 11,
     "metadata": {},
     "output_type": "execute_result"
    }
   ],
   "source": [
    "y_pred = rnd_search_cv.best_estimator_.predict(X_train_scaled)\n",
    "mse = mean_squared_error(y_train, y_pred)\n",
    "np.sqrt(mse)"
   ]
  },
  {
   "cell_type": "markdown",
   "id": "badcb893",
   "metadata": {},
   "source": [
    " Looks much better than the linear model. Let's select this model and evaluate it on the test set:"
   ]
  },
  {
   "cell_type": "code",
   "execution_count": 12,
   "id": "a6757c69",
   "metadata": {},
   "outputs": [
    {
     "data": {
      "text/plain": [
       "0.5929168385528745"
      ]
     },
     "execution_count": 12,
     "metadata": {},
     "output_type": "execute_result"
    }
   ],
   "source": [
    "y_pred = rnd_search_cv.best_estimator_.predict(X_test_scaled)\n",
    "mse = mean_squared_error(y_test, y_pred)\n",
    "np.sqrt(mse)"
   ]
  }
 ],
 "metadata": {
  "kernelspec": {
   "display_name": "Python 3 (ipykernel)",
   "language": "python",
   "name": "python3"
  },
  "language_info": {
   "codemirror_mode": {
    "name": "ipython",
    "version": 3
   },
   "file_extension": ".py",
   "mimetype": "text/x-python",
   "name": "python",
   "nbconvert_exporter": "python",
   "pygments_lexer": "ipython3",
   "version": "3.8.8"
  }
 },
 "nbformat": 4,
 "nbformat_minor": 5
}
